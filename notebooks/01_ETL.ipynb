{
 "cells": [
  {
   "cell_type": "code",
   "execution_count": 3,
   "id": "88c0699b",
   "metadata": {},
   "outputs": [
    {
     "name": "stdout",
     "output_type": "stream",
     "text": [
      "Collecting psycopg2\n",
      "  Using cached psycopg2-2.9.11-cp313-cp313-win_amd64.whl.metadata (5.1 kB)\n",
      "Using cached psycopg2-2.9.11-cp313-cp313-win_amd64.whl (2.7 MB)\n",
      "Installing collected packages: psycopg2\n",
      "Successfully installed psycopg2-2.9.11\n",
      "Note: you may need to restart the kernel to use updated packages.\n"
     ]
    },
    {
     "name": "stderr",
     "output_type": "stream",
     "text": [
      "\n",
      "[notice] A new release of pip is available: 25.1.1 -> 25.2\n",
      "[notice] To update, run: python.exe -m pip install --upgrade pip\n"
     ]
    }
   ],
   "source": [
    "pip install psycopg2"
   ]
  },
  {
   "cell_type": "code",
   "execution_count": 1,
   "id": "1371d357",
   "metadata": {},
   "outputs": [],
   "source": [
    "import sys\n",
    "import os\n",
    "\n",
    "# Adiciona o diretório raiz do projeto ao sys.path\n",
    "project_root = os.path.abspath(os.path.join(os.getcwd(), '..'))\n",
    "if project_root not in sys.path:\n",
    "    sys.path.append(project_root)"
   ]
  },
  {
   "cell_type": "code",
   "execution_count": 4,
   "id": "1eac0bd4",
   "metadata": {},
   "outputs": [],
   "source": [
    "from scripts.ETL import ETL\n",
    "from config import settings"
   ]
  },
  {
   "cell_type": "code",
   "execution_count": 5,
   "id": "59a9b1a1",
   "metadata": {},
   "outputs": [
    {
     "name": "stderr",
     "output_type": "stream",
     "text": [
      "c:\\Projetos\\Análise preditiva da POF 2018\\scripts\\ETL.py:313: SettingWithCopyWarning: \n",
      "A value is trying to be set on a copy of a slice from a DataFrame.\n",
      "Try using .loc[row_indexer,col_indexer] = value instead\n",
      "\n",
      "See the caveats in the documentation: https://pandas.pydata.org/pandas-docs/stable/user_guide/indexing.html#returning-a-view-versus-a-copy\n",
      "  df_pof_domicilio['Aluguel Estimado (Faixa)'] = pd.qcut(df_pof_domicilio['Aluguel Estimado'], q=5, labels=nomes_faixas, duplicates='drop')\n",
      "c:\\Projetos\\Análise preditiva da POF 2018\\scripts\\ETL.py:314: SettingWithCopyWarning: \n",
      "A value is trying to be set on a copy of a slice from a DataFrame.\n",
      "Try using .loc[row_indexer,col_indexer] = value instead\n",
      "\n",
      "See the caveats in the documentation: https://pandas.pydata.org/pandas-docs/stable/user_guide/indexing.html#returning-a-view-versus-a-copy\n",
      "  df_pof_domicilio['Aluguel Estimado (Faixa)'] = df_pof_domicilio['Aluguel Estimado (Faixa)'].astype(str)\n",
      "c:\\Projetos\\Análise preditiva da POF 2018\\scripts\\ETL.py:316: SettingWithCopyWarning: \n",
      "A value is trying to be set on a copy of a slice from a DataFrame.\n",
      "Try using .loc[row_indexer,col_indexer] = value instead\n",
      "\n",
      "See the caveats in the documentation: https://pandas.pydata.org/pandas-docs/stable/user_guide/indexing.html#returning-a-view-versus-a-copy\n",
      "  df_pof_domicilio['Qtd de banheiros de uso comum'] = df_pof_domicilio['Qtd de banheiros de uso comum'].fillna(0)\n",
      "c:\\Projetos\\Análise preditiva da POF 2018\\scripts\\ETL.py:317: SettingWithCopyWarning: \n",
      "A value is trying to be set on a copy of a slice from a DataFrame.\n",
      "Try using .loc[row_indexer,col_indexer] = value instead\n",
      "\n",
      "See the caveats in the documentation: https://pandas.pydata.org/pandas-docs/stable/user_guide/indexing.html#returning-a-view-versus-a-copy\n",
      "  df_pof_domicilio['Valor em reais (R$) de despesa realizada'] = df_pof_domicilio.groupby('Tipo do domicílio')['Valor em reais (R$) de despesa realizada'].transform(lambda x: x.fillna(x.median()))\n",
      "c:\\Projetos\\Análise preditiva da POF 2018\\scripts\\ETL.py:318: SettingWithCopyWarning: \n",
      "A value is trying to be set on a copy of a slice from a DataFrame.\n",
      "Try using .loc[row_indexer,col_indexer] = value instead\n",
      "\n",
      "See the caveats in the documentation: https://pandas.pydata.org/pandas-docs/stable/user_guide/indexing.html#returning-a-view-versus-a-copy\n",
      "  df_pof_domicilio['Valor em reais (R$) do rendimento bruto'] = df_pof_domicilio.groupby('Tipo do domicílio')['Valor em reais (R$) do rendimento bruto'].transform(lambda x: x.fillna(x.median()))\n"
     ]
    }
   ],
   "source": [
    "db_params = {\n",
    "    'database': '2222120010_Vinicius',\n",
    "    'user': '2222120010_Vinicius',\n",
    "    'password': '2222120010_Vinicius',\n",
    "    'host': 'dataiesb.iesbtech.com.br',  # Endereço do servidor do PostgreSQL\n",
    "    'port': '5432'       # Porta padrão do PostgreSQL\n",
    "}\n",
    "\n",
    "ETL(settings.DADOS_CSV, db_params)"
   ]
  }
 ],
 "metadata": {
  "kernelspec": {
   "display_name": "Python 3",
   "language": "python",
   "name": "python3"
  },
  "language_info": {
   "codemirror_mode": {
    "name": "ipython",
    "version": 3
   },
   "file_extension": ".py",
   "mimetype": "text/x-python",
   "name": "python",
   "nbconvert_exporter": "python",
   "pygments_lexer": "ipython3",
   "version": "3.13.5"
  }
 },
 "nbformat": 4,
 "nbformat_minor": 5
}
